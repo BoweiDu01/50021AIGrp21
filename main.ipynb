{
 "cells": [
  {
   "cell_type": "code",
   "execution_count": 2,
   "metadata": {},
   "outputs": [
    {
     "name": "stdout",
     "output_type": "stream",
     "text": [
      "cuda\n"
     ]
    }
   ],
   "source": [
    "import json\n",
    "import matplotlib.pyplot as plt\n",
    "import matplotlib.ticker as ticker\n",
    "import numpy as np\n",
    "import os\n",
    "import pandas as pd\n",
    "import torch\n",
    "import torch.nn as nn\n",
    "import torch.nn.functional as F\n",
    "import torch.optim as optim\n",
    "from architectures import *\n",
    "from sklearn.model_selection import train_test_split\n",
    "from torchvision import transforms, datasets\n",
    "from utils import *\n",
    "\n",
    "DEVICE = torch.device(\"cuda\" if torch.cuda.is_available() else \"cpu\")\n",
    "SEED = 37\n",
    "ROOT_PATH = os.getcwd()\n",
    "os.makedirs(DATASET_PATH := os.path.join(ROOT_PATH, \"dataset\"), exist_ok=True)\n",
    "os.makedirs(MODELS_PATH := os.path.join(ROOT_PATH, \"models\"), exist_ok=True)\n",
    "\n",
    "print(DEVICE)\n",
    "seed_functions(SEED)"
   ]
  },
  {
   "cell_type": "markdown",
   "metadata": {},
   "source": [
    "Loading"
   ]
  },
  {
   "cell_type": "code",
   "execution_count": 3,
   "metadata": {},
   "outputs": [],
   "source": [
    "BATCH_SIZE = 32\n",
    "TRAIN_RATIO = 0.8\n",
    "DEV_RATIO = 0.1\n",
    "TEST_RATIO = 0.1\n",
    "\n",
    "dataset_transform = transforms.Compose([transforms.Resize((224, 224)), transforms.ToTensor()])\n",
    "dataset = datasets.ImageFolder(DATASET_PATH, transform=dataset_transform)\n",
    "\n",
    "def split_data(dataset):\n",
    "\tlabels = [tp[1] for tp in dataset]\n",
    "\ttrain_set, temp_set = train_test_split(dataset, test_size=(1 - TRAIN_RATIO), random_state=SEED, stratify=labels)\n",
    "\ttemp_labels = [tp[1] for tp in temp_set]\n",
    "\ttest_set, dev_set = train_test_split(temp_set, test_size=(TEST_RATIO / (DEV_RATIO + TEST_RATIO)), random_state=SEED, stratify=temp_labels)\n",
    "\treturn train_set, dev_set, test_set\n",
    "\n",
    "train_set, dev_set, test_set = split_data(dataset)\n",
    "\n",
    "train_generator = torch.Generator().manual_seed(SEED)\n",
    "train_loader = torch.utils.data.DataLoader(train_set, batch_size=BATCH_SIZE, shuffle=True, generator=train_generator)\n",
    "dev_loader = torch.utils.data.DataLoader(dev_set, batch_size=BATCH_SIZE, shuffle=False)\n",
    "test_loader = torch.utils.data.DataLoader(test_set, batch_size=BATCH_SIZE, shuffle=False)"
   ]
  },
  {
   "cell_type": "markdown",
   "metadata": {},
   "source": [
    "Training"
   ]
  },
  {
   "cell_type": "code",
   "execution_count": null,
   "metadata": {},
   "outputs": [
    {
     "name": "stderr",
     "output_type": "stream",
     "text": [
      "c:\\Users\\gregory\\AppData\\Local\\Programs\\Python\\Python312\\Lib\\site-packages\\torchvision\\models\\_utils.py:208: UserWarning: The parameter 'pretrained' is deprecated since 0.13 and may be removed in the future, please use 'weights' instead.\n",
      "  warnings.warn(\n",
      "c:\\Users\\gregory\\AppData\\Local\\Programs\\Python\\Python312\\Lib\\site-packages\\torchvision\\models\\_utils.py:223: UserWarning: Arguments other than a weight enum or `None` for 'weights' are deprecated since 0.13 and may be removed in the future. The current behavior is equivalent to passing `weights=ResNet50_Weights.IMAGENET1K_V1`. You can also use `weights=ResNet50_Weights.DEFAULT` to get the most up-to-date weights.\n",
      "  warnings.warn(msg)\n",
      "Downloading: \"https://download.pytorch.org/models/resnet50-0676ba61.pth\" to C:\\Users\\gregory/.cache\\torch\\hub\\checkpoints\\resnet50-0676ba61.pth\n",
      "100%|██████████| 97.8M/97.8M [00:06<00:00, 16.7MB/s]\n"
     ]
    },
    {
     "name": "stdout",
     "output_type": "stream",
     "text": [
      "Epoch 1/50 - Train Loss: 0.4898 - Dev Loss: 0.5671\n",
      "Epoch 2/50 - Train Loss: 0.4136 - Dev Loss: 2.1134\n",
      "Epoch 3/50 - Train Loss: 0.3885 - Dev Loss: 0.3735\n",
      "Epoch 4/50 - Train Loss: 0.3896 - Dev Loss: 1.6699\n",
      "Epoch 5/50 - Train Loss: 0.3781 - Dev Loss: 0.4123\n",
      "Epoch 6/50 - Train Loss: 0.3499 - Dev Loss: 0.3882\n",
      "Epoch 7/50 - Train Loss: 0.3410 - Dev Loss: 0.3846\n",
      "Epoch 8/50 - Train Loss: 0.3230 - Dev Loss: 1.7773\n",
      "Epoch 9/50 - Train Loss: 0.3121 - Dev Loss: 0.8409\n",
      "Epoch 10/50 - Train Loss: 0.2952 - Dev Loss: 0.4832\n",
      "Stopping early\n"
     ]
    }
   ],
   "source": [
    "LEARNING_RATE = 0.001\n",
    "NUM_EPOCHS = 50\n",
    "PATIENCE = 7\n",
    "\n",
    "def train_model(model, train_loader, dev_loader, criterion, optimizer):\n",
    "\t# Create model folder\n",
    "\tmodel_folder = os.path.join(MODELS_PATH, f\"{model.id}\")\n",
    "\tos.makedirs(model_folder, exist_ok=True)\n",
    "\n",
    "\tbest_dev_loss = float(\"inf\")\n",
    "\tbest_model_path = os.path.join(model_folder, \"best.pth\")\n",
    "\tpatience_counter = 0\n",
    "\ttrain_losses = []\n",
    "\tdev_losses = []\n",
    "\n",
    "\tfor epoch in range(NUM_EPOCHS):\n",
    "\t\t# Train model on train set\n",
    "\t\tmodel.train()\n",
    "\t\ttotal_loss = 0\n",
    "\t\tfor images, labels in train_loader:\n",
    "\t\t\timages, labels = images.to(DEVICE), labels.to(DEVICE)\n",
    "\t\t\toptimizer.zero_grad()\n",
    "\t\t\toutputs = model(images)\n",
    "\t\t\tloss = criterion(outputs, labels)\n",
    "\t\t\tloss.backward()\n",
    "\t\t\toptimizer.step()\n",
    "\t\t\ttotal_loss += loss.item()\n",
    "\t\ttrain_loss = total_loss / len(train_loader)\n",
    "\t\ttrain_losses.append(train_loss)\n",
    "\n",
    "\t\t# Evaluate model on dev set\n",
    "\t\tmodel.eval()\n",
    "\t\tdev_loss = 0\n",
    "\t\twith torch.no_grad():\n",
    "\t\t\tfor images, labels in dev_loader:\n",
    "\t\t\t\timages, labels = images.to(DEVICE), labels.to(DEVICE)\n",
    "\t\t\t\toutputs = model(images)\n",
    "\t\t\t\tdev_loss += criterion(outputs, labels).item()\n",
    "\t\tdev_loss /= len(dev_loader)\n",
    "\t\tdev_losses.append(dev_loss)\n",
    "\n",
    "\t\tprint(f\"Epoch {epoch+1}/{NUM_EPOCHS} - Train Loss: {train_loss:.4f} - Dev Loss: {dev_loss:.4f}\")\n",
    "\n",
    "\t\t# Save model epoch checkpoint\n",
    "\t\ttorch.save(model.state_dict(), os.path.join(model_folder, f\"epoch={epoch+1}-dev_loss={dev_loss:.4f}.pth\"))\n",
    "\n",
    "\t\tif dev_loss < best_dev_loss:\n",
    "\t\t\tbest_dev_loss = dev_loss\n",
    "\t\t\ttorch.save(model.state_dict(), best_model_path)  # Save best model\n",
    "\t\t\tpatience_counter = 0  # Reset patience counter\n",
    "\t\telse:\n",
    "\t\t\tpatience_counter += 1\n",
    "\t\t\t# Stop early if needed\n",
    "\t\t\tif patience_counter >= PATIENCE:\n",
    "\t\t\t\tprint(\"Stopping early\")\n",
    "\t\t\t\tbreak\n",
    "\n",
    "\t# Save losses\n",
    "\tloss_data = {\"train_losses\": train_losses, \"dev_losses\": dev_losses}\n",
    "\twith open(os.path.join(model_folder, \"losses.json\"), \"w\") as f:\n",
    "\t\tjson.dump(loss_data, f)\n",
    "\n",
    "model = ResNet50().to(DEVICE)\n",
    "criterion = nn.CrossEntropyLoss()\n",
    "optimizer = torch.optim.AdamW(model.parameters(), lr=LEARNING_RATE)\n",
    "\n",
    "# train_model(model, train_loader, dev_loader, criterion, optimizer)"
   ]
  },
  {
   "cell_type": "markdown",
   "metadata": {},
   "source": [
    "Post-training"
   ]
  },
  {
   "cell_type": "code",
   "execution_count": null,
   "metadata": {},
   "outputs": [
    {
     "data": {
      "image/png": "[encoded data removed]",
      "text/plain": [
       "<Figure size 800x500 with 1 Axes>"
      ]
     },
     "metadata": {},
     "output_type": "display_data"
    },
    {
     "name": "stdout",
     "output_type": "stream",
     "text": [
      "Confusion Matrix:\n",
      "[[ 10  33]\n",
      " [  0 158]]\n"
     ]
    }
   ],
   "source": [
    "def visualise_training(model):\n",
    "\tmodel_folder = os.path.join(MODELS_PATH, f\"{model.id}\")\n",
    "\twith open(os.path.join(model_folder, \"losses.json\"), \"r\") as f:\n",
    "\t\tloss_data = json.load(f)\n",
    "\ttrain_losses = loss_data[\"train_losses\"]\n",
    "\tdev_losses = loss_data[\"dev_losses\"]\n",
    "\tplt.figure(figsize=(8, 5))\n",
    "\tepochs = range(1, len(train_losses) + 1)\n",
    "\tplt.plot(epochs, train_losses, 'b-', label='Training loss')\n",
    "\tplt.plot(epochs, dev_losses, 'r-', label='Validation loss')\n",
    "\tplt.xlabel(\"Epoch\")\n",
    "\tplt.ylabel(\"Loss\")\n",
    "\tplt.legend()\n",
    "\tbest_epoch = np.argmin(dev_losses) + 1\n",
    "\tbest_loss = min(dev_losses)\n",
    "\tplt.plot(best_epoch, best_loss, 'ro', markersize=8)\n",
    "\tplt.annotate(\n",
    "\t\tf'Best: {best_loss:.4f}',\n",
    "\t\txy=(best_epoch, best_loss),\n",
    "\t\txytext=(best_epoch + 0.5, best_loss + 0.1),\n",
    "\t\tarrowprops=dict(facecolor='black', shrink=0.05, width=1.5)\n",
    "\t)\n",
    "\tplt.gca().xaxis.set_major_locator(ticker.MultipleLocator(1))\n",
    "\tplt.tight_layout()\n",
    "\tplt.show()\n",
    "\n",
    "from sklearn.metrics import confusion_matrix\n",
    "\n",
    "def evaluate_model(model, test_loader):\n",
    "\tmodel.eval()\n",
    "\tY_hat, Y = [], []\n",
    "\twith torch.no_grad():\n",
    "\t\tfor x, y in test_loader:\n",
    "\t\t\tlogits = model(x.to(DEVICE))\n",
    "\t\t\tpreds = torch.argmax(logits, dim=1).cpu()\n",
    "\t\t\tY_hat.append(preds)\n",
    "\t\t\tY.append(y.view(-1))\n",
    "\ty_true = torch.cat(Y).numpy()\n",
    "\ty_pred = torch.cat(Y_hat).numpy()\n",
    "\ttn, fp, fn, tp = confusion_matrix(y_true, y_pred).ravel()\n",
    "\tf1 = 2 * tp / (2 * tp + fp + fn) if (2 * tp + fp + fn) != 0 else 0\n",
    "\treturn {\"tp\": tp, \"tn\": tn, \"fp\": fp, \"fn\": fn, \"f1\": f1}\n",
    "\n",
    "m = ResNet50().to(DEVICE)\n",
    "visualise_training(m)\n",
    "\n",
    "m.load_state_dict(torch.load(os.path.join(MODELS_PATH, m.id, \"best.pth\")))\n",
    "evaluate_model(m, test_loader)"
   ]
  }
 ],
 "metadata": {
  "kernelspec": {
   "display_name": "Python 3",
   "language": "python",
   "name": "python3"
  },
  "language_info": {
   "codemirror_mode": {
    "name": "ipython",
    "version": 3
   },
   "file_extension": ".py",
   "mimetype": "text/x-python",
   "name": "python",
   "nbconvert_exporter": "python",
   "pygments_lexer": "ipython3",
   "version": "3.12.9"
  }
 },
 "nbformat": 4,
 "nbformat_minor": 2
}
